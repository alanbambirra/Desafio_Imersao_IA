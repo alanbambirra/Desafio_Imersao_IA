{
  "nbformat": 4,
  "nbformat_minor": 0,
  "metadata": {
    "colab": {
      "provenance": [],
      "authorship_tag": "ABX9TyNmil5xwop2FGoJVIucjr9a",
      "include_colab_link": true
    },
    "kernelspec": {
      "name": "python3",
      "display_name": "Python 3"
    },
    "language_info": {
      "name": "python"
    }
  },
  "cells": [
    {
      "cell_type": "markdown",
      "metadata": {
        "id": "view-in-github",
        "colab_type": "text"
      },
      "source": [
        "<a href=\"https://colab.research.google.com/github/alanbambirra/Desafio_Imersao_IA/blob/main/chatbotstreaming.ipynb\" target=\"_parent\"><img src=\"https://colab.research.google.com/assets/colab-badge.svg\" alt=\"Open In Colab\"/></a>"
      ]
    },
    {
      "cell_type": "code",
      "source": [
        "#Instalando o SDK do Google\n",
        "!pip install -q -U google-generativeai"
      ],
      "metadata": {
        "id": "A5s1CRVH1V86"
      },
      "execution_count": 3,
      "outputs": []
    },
    {
      "cell_type": "markdown",
      "source": [
        "Chatbot para Pesquisa de Conteúdo em Streaming com Google Gemini e Embeddings\n",
        "Este notebook demonstra a criação de um chatbot para pesquisa de conteúdo em serviços de streaming usando a API do Google Gemini e embeddings. O chatbot permite que os usuários selecionem um serviço de streaming de uma lista e, em seguida, pesquisem por filmes, animes, séries, minisséries e novelas. Os resultados da pesquisa serão exibidos em uma tabela, classificados pela avaliação do Google, usando embeddings para melhorar a precisão da pesquisa.\n",
        "Observação: Este código é uma demonstração conceitual e requer a API do Google Gemini, que ainda não está disponível publicamente. Adaptações serão necessárias quando a API for lançada.\n",
        "Passo 1: Importar bibliotecas e configurar a API do Google Gemini"
      ],
      "metadata": {
        "id": "q4BSbGbMLV87"
      }
    },
    {
      "cell_type": "code",
      "execution_count": 2,
      "metadata": {
        "id": "3Ni6VXW_0Yo6"
      },
      "outputs": [],
      "source": [
        "# Importar bibliotecas necessárias\n",
        "import google.generativeai as genai\n",
        "import pandas as pd\n",
        "from google.generativeai import embeddings\n",
        "from google.colab import userdata\n",
        "\n",
        "# Configurar a API do Google Gemini\n",
        "api_key = userdata.get(\"SECRET_KEY\")\n",
        "genai.configure(api_key='GOOGLE_API_KEY')"
      ]
    },
    {
      "cell_type": "markdown",
      "source": [
        "Passo 2: Definir a lista de serviços de streaming e tipos de conteúdo"
      ],
      "metadata": {
        "id": "QFj5nLoTLaeK"
      }
    },
    {
      "cell_type": "code",
      "source": [
        "# Criar um dicionário com os serviços de streaming e seus números correspondentes\n",
        "streaming_services = {\n",
        "    1: 'Netflix',\n",
        "    2: 'Amazon Prime Video',\n",
        "    3: 'Disney+',\n",
        "    4: 'HBO Max',\n",
        "    # adicione mais serviços de streaming aqui\n",
        "}\n",
        "\n",
        "# Criar uma lista de tipos de conteúdo\n",
        "content_types = ['Filmes', 'Anime', 'Séries', 'Minisséries', 'Novelas']"
      ],
      "metadata": {
        "id": "93CT1BK5EyFr"
      },
      "execution_count": 3,
      "outputs": []
    },
    {
      "cell_type": "markdown",
      "source": [
        "Passo 3: Obter a entrada do usuário para o serviço de streaming e tipo de conteúdo"
      ],
      "metadata": {
        "id": "JcyCdQfdLjQb"
      }
    },
    {
      "cell_type": "code",
      "source": [
        "## Exibir a lista de serviços de streaming para o usuário\n",
        "print('Selecione um serviço de streaming:')\n",
        "for number, service in streaming_services.items():\n",
        "    print(f'{number}. {service}')\n",
        "\n",
        "# Obter a entrada do usuário para o número do serviço de streaming\n",
        "while True:\n",
        "    try:\n",
        "        service_number = int(input('Digite o número do serviço de streaming: '))\n",
        "        selected_service = streaming_services[service_number]\n",
        "        break\n",
        "    except (ValueError, KeyError):\n",
        "        print('Entrada inválida. Por favor, digite um número válido da lista.')\n",
        "\n",
        "# Exibir a lista de tipos de conteúdo para o usuário\n",
        "print('\\nSelecione um tipo de conteúdo:')\n",
        "for i, content_type in enumerate(content_types):\n",
        "    print(f'{i+1}. {content_type}')\n",
        "\n",
        "# Obter a entrada do usuário para o número do tipo de conteúdo\n",
        "while True:\n",
        "    try:\n",
        "        content_number = int(input('Digite o número do tipo de conteúdo: '))\n",
        "        selected_content = content_types[content_number - 1]\n",
        "        break\n",
        "    except (ValueError, IndexError):\n",
        "        print('Entrada inválida. Por favor, digite um número válido da lista.')"
      ],
      "metadata": {
        "colab": {
          "base_uri": "https://localhost:8080/"
        },
        "id": "rNZcVFvpFBMi",
        "outputId": "f187c206-53b2-4996-b5b8-7c9f159031e6"
      },
      "execution_count": 10,
      "outputs": [
        {
          "name": "stdout",
          "output_type": "stream",
          "text": [
            "\n",
            "Selecione um tipo de conteúdo:\n",
            "1. Filmes\n",
            "2. Anime\n",
            "3. Séries\n",
            "4. Minisséries\n",
            "5. Novelas\n",
            "Digite o número do tipo de conteúdo: 1\n"
          ]
        }
      ]
    },
    {
      "cell_type": "markdown",
      "source": [
        "Passo 4: Criar embeddings para a consulta do usuário"
      ],
      "metadata": {
        "id": "u_JPByP7LpyT"
      }
    },
    {
      "cell_type": "code",
      "source": [
        "# Construir a consulta para a API do Google Gemini\n",
        "query = f'Top 100 {selected_content} em {selected_service} classificados por avaliação do Google'\n",
        "\n",
        "# Gerar embeddings para a consulta usando a API do Google Gemini\n",
        "query_embedding = embeddings.generate_embeddings(model='gemini-pro', text=query)"
      ],
      "metadata": {
        "colab": {
          "base_uri": "https://localhost:8080/"
        },
        "id": "kTmYHEd-E27L",
        "outputId": "7c3b54a2-8b99-4940-f8f4-6b5125e1f4cc"
      },
      "execution_count": 8,
      "outputs": [
        {
          "name": "stdout",
          "output_type": "stream",
          "text": [
            "Selecione um serviço de streaming:\n",
            "1. Netflix\n",
            "2. Amazon Prime Video\n",
            "3. Disney+\n",
            "4. HBO Max\n",
            "Digite o número do serviço de streaming: 1\n"
          ]
        }
      ]
    },
    {
      "cell_type": "markdown",
      "source": [
        "Passo 5: Obter embeddings para o conteúdo do serviço de streaming"
      ],
      "metadata": {
        "id": "QCxpIGi4L4Aq"
      }
    },
    {
      "cell_type": "code",
      "source": [
        "# Esta etapa requer acesso a um banco de dados de conteúdo de streaming\n",
        "# com embeddings pré-calculados para cada título.\n",
        "\n",
        "# Consultar o banco de dados de conteúdo usando os embeddings da consulta\n",
        "# para encontrar títulos semelhantes.\n",
        "\n",
        "# Obter os 100 títulos mais semelhantes com base na similaridade de embeddings.\n",
        "\n",
        "# (A implementação real dependerá da estrutura do banco de dados e da API de consulta.)"
      ],
      "metadata": {
        "colab": {
          "base_uri": "https://localhost:8080/",
          "height": 211
        },
        "id": "8FdZ1R1bFJ1z",
        "outputId": "a2f1cecb-7451-4b2e-d604-907b32ab2242"
      },
      "execution_count": 16,
      "outputs": [
        {
          "output_type": "error",
          "ename": "NameError",
          "evalue": "name 'gemini' is not defined",
          "traceback": [
            "\u001b[0;31m---------------------------------------------------------------------------\u001b[0m",
            "\u001b[0;31mNameError\u001b[0m                                 Traceback (most recent call last)",
            "\u001b[0;32m<ipython-input-16-72e15a24e8af>\u001b[0m in \u001b[0;36m<cell line: 5>\u001b[0;34m()\u001b[0m\n\u001b[1;32m      3\u001b[0m \u001b[0;34m\u001b[0m\u001b[0m\n\u001b[1;32m      4\u001b[0m \u001b[0;31m# Fazer a consulta à API do Google Gemini\u001b[0m\u001b[0;34m\u001b[0m\u001b[0;34m\u001b[0m\u001b[0m\n\u001b[0;32m----> 5\u001b[0;31m response = gemini.generate_text(\n\u001b[0m\u001b[1;32m      6\u001b[0m     \u001b[0mmodel\u001b[0m\u001b[0;34m=\u001b[0m\u001b[0;34m'gemini-1.0'\u001b[0m\u001b[0;34m,\u001b[0m\u001b[0;34m\u001b[0m\u001b[0;34m\u001b[0m\u001b[0m\n\u001b[1;32m      7\u001b[0m     \u001b[0mprompt\u001b[0m\u001b[0;34m=\u001b[0m\u001b[0mquery\u001b[0m\u001b[0;34m,\u001b[0m\u001b[0;34m\u001b[0m\u001b[0;34m\u001b[0m\u001b[0m\n",
            "\u001b[0;31mNameError\u001b[0m: name 'gemini' is not defined"
          ]
        }
      ]
    },
    {
      "cell_type": "markdown",
      "source": [
        "Passo 6: Processar os resultados da pesquisa e criar a tabela"
      ],
      "metadata": {
        "id": "U3kpkza8Ls_b"
      }
    },
    {
      "cell_type": "code",
      "source": [
        "# Criar uma lista de dicionários para armazenar os dados da tabela\n",
        "table_data = []\n",
        "\n",
        "# Iterar pelos 100 títulos mais semelhantes retornados do banco de dados\n",
        "for title in top_100_titles:\n",
        "    # Obter informações adicionais sobre o título do banco de dados\n",
        "    # (A implementação real dependerá da estrutura do banco de dados)\n",
        "    description = title['description']\n",
        "    genre = title['genre']\n",
        "    rating = title['rating']\n",
        "    year = title['year']\n",
        "    classification = title['classification']\n",
        "\n",
        "    # Adicionar as informações à lista de dados da tabela\n",
        "    table_data.append({\n",
        "        'Título': title,\n",
        "        'Descrição/Sinopse': description,\n",
        "        'Gênero': genre,\n",
        "        'Avaliação': rating,\n",
        "        'Ano': year,\n",
        "        'Classificação': classification,\n",
        "    })\n",
        "\n",
        "# Criar um DataFrame do pandas a partir da lista de dados da tabela\n",
        "df = pd.DataFrame(table_data)\n",
        "\n",
        "# Exibir a tabela\n",
        "print(df.to_markdown())"
      ],
      "metadata": {
        "id": "pSC4mSOMFNUi"
      },
      "execution_count": null,
      "outputs": []
    }
  ]
}